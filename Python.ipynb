{
  "nbformat": 4,
  "nbformat_minor": 0,
  "metadata": {
    "colab": {
      "provenance": [],
      "toc_visible": true,
      "authorship_tag": "ABX9TyP4yo9Adv0xXZ+ih6Y1gMxZ",
      "include_colab_link": true
    },
    "kernelspec": {
      "name": "python3",
      "display_name": "Python 3"
    },
    "language_info": {
      "name": "python"
    }
  },
  "cells": [
    {
      "cell_type": "markdown",
      "metadata": {
        "id": "view-in-github",
        "colab_type": "text"
      },
      "source": [
        "<a href=\"https://colab.research.google.com/github/utsabsarkar12/Python_Practice/blob/main/Python.ipynb\" target=\"_parent\"><img src=\"https://colab.research.google.com/assets/colab-badge.svg\" alt=\"Open In Colab\"/></a>"
      ]
    },
    {
      "cell_type": "code",
      "source": [
        "# 1. Write a Python program to check if a number is even or odd.\n",
        "number = int(input())\n",
        "\n",
        "if number%2 == 0:\n",
        "  print(\"Even\")\n",
        "else:\n",
        "  print(\"Odd\")"
      ],
      "metadata": {
        "colab": {
          "base_uri": "https://localhost:8080/"
        },
        "id": "y3g1sQC2KZTK",
        "outputId": "4391681e-4682-400f-c43e-89f761fdd1a7"
      },
      "execution_count": null,
      "outputs": [
        {
          "output_type": "stream",
          "name": "stdout",
          "text": [
            "11\n",
            "Odd\n"
          ]
        }
      ]
    },
    {
      "cell_type": "code",
      "source": [
        "# 2. Create a Python function that takes two numbers as arguments and returns their greatest common divisor (GCD).\n",
        "\n",
        "def find_gcd(a,b):\n",
        "  if (b == 0):\n",
        "    return a\n",
        "  else:\n",
        "    return find_gcd(b, a%b)\n",
        "\n",
        "a = 60\n",
        "b = 48\n",
        "\n",
        "print(\"The gcd of 60 and 48 is : \", end=\"\")\n",
        "print(find_gcd(60, 48))"
      ],
      "metadata": {
        "colab": {
          "base_uri": "https://localhost:8080/"
        },
        "id": "kNSS3g22Fc5w",
        "outputId": "e767f6e6-3d2a-4c8a-db50-b5a6f71b1208"
      },
      "execution_count": 1,
      "outputs": [
        {
          "output_type": "stream",
          "name": "stdout",
          "text": [
            "The gcd of 60 and 48 is : 12\n"
          ]
        }
      ]
    },
    {
      "cell_type": "code",
      "source": [
        "# 2. Create a Python function that takes two numbers as arguments and returns their greatest common divisor (GCD).\n",
        "import math\n",
        "\n",
        "print(\"The gcd of 60 and 48 is : \", end=\"\")\n",
        "print(math.gcd(60, 48))"
      ],
      "metadata": {
        "colab": {
          "base_uri": "https://localhost:8080/"
        },
        "id": "4XN3tWqOKJQq",
        "outputId": "4aa6a2c7-e722-4dc0-8174-52f715a66a1b"
      },
      "execution_count": 4,
      "outputs": [
        {
          "output_type": "stream",
          "name": "stdout",
          "text": [
            "The gcd of 60 and 48 is : 12\n"
          ]
        }
      ]
    },
    {
      "cell_type": "code",
      "source": [
        "# 2.1. Create a Python function that takes two numbers as arguments and returns their LCM.\n",
        "import math\n",
        "\n",
        "def lcm_using_gcd(a, b):\n",
        "    gcd = math.gcd(a, b)\n",
        "    lcm = (a * b) // gcd\n",
        "    return lcm\n",
        "\n",
        "num1 = 12\n",
        "num2 = 15\n",
        "print(\"LCM of\", num1, \"and\", num2, \"is:\", lcm_using_gcd(num1, num2))"
      ],
      "metadata": {
        "colab": {
          "base_uri": "https://localhost:8080/"
        },
        "id": "JhbVL60lHpao",
        "outputId": "03db31a5-9af7-46f0-be07-f7394c008daf"
      },
      "execution_count": 2,
      "outputs": [
        {
          "output_type": "stream",
          "name": "stdout",
          "text": [
            "LCM of 12 and 15 is: 60\n"
          ]
        }
      ]
    },
    {
      "cell_type": "code",
      "source": [
        "# 3. Write a Python script to calculate the factorial of a given number using a for loop.\n",
        "import math\n",
        "\n",
        "def factorial(n):\n",
        "  return(math.factorial(n))\n",
        "\n",
        "num = 5\n",
        "print(\"Factorial of\", num, \"is\",\n",
        "  factorial(num))"
      ],
      "metadata": {
        "colab": {
          "base_uri": "https://localhost:8080/"
        },
        "id": "6-LOdIwZJcab",
        "outputId": "ffd9b619-ea4e-4055-8e3e-da5aaa735f7a"
      },
      "execution_count": 3,
      "outputs": [
        {
          "output_type": "stream",
          "name": "stdout",
          "text": [
            "Factorial of 5 is 120\n"
          ]
        }
      ]
    },
    {
      "cell_type": "code",
      "source": [
        "# 4. Develop a program that asks the user to enter their name and age, then prints a message telling them how old they will be in 10 years.\n",
        "name = input(\"Enter Your Name: \")\n",
        "age = int(input(\"Enter Your Age: \"))\n",
        "\n",
        "age_after_10_year = age + 10\n",
        "\n",
        "print(age_after_10_year)"
      ],
      "metadata": {
        "colab": {
          "base_uri": "https://localhost:8080/"
        },
        "id": "CoSTdFfjKYzS",
        "outputId": "7cb083e1-8e6e-4ee5-ca43-94425d51e09c"
      },
      "execution_count": 5,
      "outputs": [
        {
          "output_type": "stream",
          "name": "stdout",
          "text": [
            "Enter Your Name: Utsab\n",
            "Enter Your Age: 20\n",
            "30\n"
          ]
        }
      ]
    },
    {
      "cell_type": "code",
      "source": [
        "# 5. Write a Python function that takes a string and counts the number of vowels in it.\n",
        "def count_vowels(str):\n",
        "  vowels = \"aeiouAEIOU\"\n",
        "  count = 0\n",
        "  for char in str:\n",
        "    if char in vowels:\n",
        "      count += 1\n",
        "  return count\n",
        "\n",
        "str = \"UtsabSarkar\"\n",
        "\n",
        "count_vowels(str)"
      ],
      "metadata": {
        "colab": {
          "base_uri": "https://localhost:8080/"
        },
        "id": "iKx8tqBnLLEY",
        "outputId": "74bb7b5f-de62-4d5f-ee1f-e7b4daf901cb"
      },
      "execution_count": 9,
      "outputs": [
        {
          "output_type": "execute_result",
          "data": {
            "text/plain": [
              "4"
            ]
          },
          "metadata": {},
          "execution_count": 9
        }
      ]
    },
    {
      "cell_type": "code",
      "source": [
        "# 6. Write a Python function to find the largest and smallest numbers in a list.\n",
        "demo_list = [10, 24, 76, 23, 12]\n",
        "\n",
        "largest = max(demo_list)\n",
        "print(largest)\n",
        "\n",
        "smallest = min(demo_list)\n",
        "print(smallest)"
      ],
      "metadata": {
        "colab": {
          "base_uri": "https://localhost:8080/"
        },
        "id": "7jxsSd7GMtnz",
        "outputId": "664aba1e-d350-4ce6-e7f0-6a1592dc300e"
      },
      "execution_count": 1,
      "outputs": [
        {
          "output_type": "stream",
          "name": "stdout",
          "text": [
            "76\n",
            "10\n"
          ]
        }
      ]
    },
    {
      "cell_type": "code",
      "source": [
        "# 7. Create a Python script to remove duplicates from a list while maintaining the original order.\n",
        "new_list = [1, 2, 2, 3, 4, 4, 5]\n",
        "\n",
        "a = list(dict.fromkeys(new_list))\n",
        "\n",
        "print(a)"
      ],
      "metadata": {
        "colab": {
          "base_uri": "https://localhost:8080/"
        },
        "id": "H76jvLdEsBhL",
        "outputId": "c90840b6-729f-4de8-ccec-18959cfacd10"
      },
      "execution_count": 3,
      "outputs": [
        {
          "output_type": "stream",
          "name": "stdout",
          "text": [
            "[1, 2, 3, 4, 5]\n"
          ]
        }
      ]
    },
    {
      "cell_type": "code",
      "source": [
        "# 8. Write a Python program to find all unique combinations of two elements in a list.\n",
        "import itertools\n",
        "\n",
        "a = [1, 2]\n",
        "b = [3, 4]\n",
        "\n",
        "combinations = list(itertools.product(a,b))\n",
        "print(combinations)"
      ],
      "metadata": {
        "colab": {
          "base_uri": "https://localhost:8080/"
        },
        "id": "cooaEacgt9RU",
        "outputId": "dff79932-c583-4a2a-99a7-45dc6202948d"
      },
      "execution_count": 5,
      "outputs": [
        {
          "output_type": "stream",
          "name": "stdout",
          "text": [
            "[(1, 3), (1, 4), (2, 3), (2, 4)]\n"
          ]
        }
      ]
    },
    {
      "cell_type": "code",
      "source": [
        "# 9. Given a list of numbers, write a Python function to return a new list containing only the even numbers.\n",
        "lis = [1, 2, 3, 4, 5]\n",
        "\n",
        "lis2 = [i for i in lis if i % 2 == 0]\n",
        "print(lis2)"
      ],
      "metadata": {
        "colab": {
          "base_uri": "https://localhost:8080/"
        },
        "id": "jbS9Wz39uJYE",
        "outputId": "dc659550-6c0c-4dfd-f5d7-e0d446f95a95"
      },
      "execution_count": 6,
      "outputs": [
        {
          "output_type": "stream",
          "name": "stdout",
          "text": [
            "[2, 4]\n"
          ]
        }
      ]
    },
    {
      "cell_type": "code",
      "source": [
        "# 9.1. Given a list of numbers, write a Python function to return a new list containing only the odd numbers.\n",
        "lis = [1, 2, 3, 4, 5]\n",
        "lis2 = []\n",
        "\n",
        "for i in lis:\n",
        "  if i % 2 !=0:\n",
        "    lis2.append(i)\n",
        "\n",
        "print(lis2)"
      ],
      "metadata": {
        "colab": {
          "base_uri": "https://localhost:8080/"
        },
        "id": "S6F3CGwZxapL",
        "outputId": "ee985b09-4dd7-49f4-ebb5-9b8d44526a16"
      },
      "execution_count": 9,
      "outputs": [
        {
          "output_type": "stream",
          "name": "stdout",
          "text": [
            "[1, 3, 5]\n"
          ]
        }
      ]
    },
    {
      "cell_type": "code",
      "source": [
        "# 10. Write a Python function that rotates a list to the left by n positions.\n",
        "def rotate_left(lst, n):\n",
        "  n = n % len(lst)\n",
        "  return lst[n:] + lst[:n]\n",
        "\n",
        "lst = [1, 2, 3, 4, 5]\n",
        "n = int(input(\"Enter the number of positions to rotate: \"))\n",
        "rotated_list = rotate_left(lst, n)\n",
        "print(rotated_list)"
      ],
      "metadata": {
        "colab": {
          "base_uri": "https://localhost:8080/"
        },
        "id": "WRzg6J-_wMH7",
        "outputId": "d6b7de91-0f88-461b-8d17-518b83c1f2a7"
      },
      "execution_count": 10,
      "outputs": [
        {
          "output_type": "stream",
          "name": "stdout",
          "text": [
            "Enter the number of positions to rotate: 2\n",
            "[3, 4, 5, 1, 2]\n"
          ]
        }
      ]
    },
    {
      "cell_type": "code",
      "source": [
        "# 11. Write a Python script to count the frequency of each word in a given sentence and store the result in a dictionary.\n"
      ],
      "metadata": {
        "id": "mNNWxHv7wPNs"
      },
      "execution_count": null,
      "outputs": []
    },
    {
      "cell_type": "code",
      "source": [
        "# 12. Create a Python function to invert a dictionary, swapping its keys and values."
      ],
      "metadata": {
        "id": "fve9r5JbwRLb"
      },
      "execution_count": null,
      "outputs": []
    },
    {
      "cell_type": "code",
      "source": [
        "# 13. Write a Python program to merge two dictionaries and handle duplicate keys by summing their values."
      ],
      "metadata": {
        "id": "x_R8f5K1wUYC"
      },
      "execution_count": null,
      "outputs": []
    },
    {
      "cell_type": "code",
      "source": [
        "# 14. Develop a program that stores student names and grades in a dictionary, then allows the user to retrieve a student's grade by entering their name."
      ],
      "metadata": {
        "id": "SkI6VWlvwWfk"
      },
      "execution_count": null,
      "outputs": []
    },
    {
      "cell_type": "code",
      "source": [
        "# 15. Write a Python function that takes a dictionary and a key as arguments and returns True if the key exists in the dictionary, and False otherwise.\n",
        "\n"
      ],
      "metadata": {
        "id": "ntXaQE93wYfr"
      },
      "execution_count": null,
      "outputs": []
    },
    {
      "cell_type": "code",
      "source": [
        "# 16. Scenario:You are building a library management system. Create a Python class Book with attributes title, author, and isbn. Add methods to display book details and check whether two books are the same based on their isbn."
      ],
      "metadata": {
        "id": "RIqXNUSPwa-D"
      },
      "execution_count": null,
      "outputs": []
    },
    {
      "cell_type": "code",
      "source": [
        "# 17. Scenario: You are creating an e-commerce application. Write a Python class Product with attributes name, price, and stock. Implement methods to:\n",
        "# Check if the product is in stock.\n",
        "# Reduce the stock by a specified quantity if an order is placed.\n",
        "# Display the product details."
      ],
      "metadata": {
        "id": "o8urYLTmwe7y"
      },
      "execution_count": null,
      "outputs": []
    },
    {
      "cell_type": "code",
      "source": [],
      "metadata": {
        "id": "S4ciioe6w3wT"
      },
      "execution_count": null,
      "outputs": []
    }
  ]
}