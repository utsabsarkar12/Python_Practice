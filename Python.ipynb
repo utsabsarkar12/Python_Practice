{
  "nbformat": 4,
  "nbformat_minor": 0,
  "metadata": {
    "colab": {
      "provenance": [],
      "mount_file_id": "1vk4U0jOiRapg2Oh2GoWphTGF5wk2kd-Q",
      "authorship_tag": "ABX9TyPeL5bRfXtSzCLbiPcd0ama",
      "include_colab_link": true
    },
    "kernelspec": {
      "name": "python3",
      "display_name": "Python 3"
    },
    "language_info": {
      "name": "python"
    }
  },
  "cells": [
    {
      "cell_type": "markdown",
      "metadata": {
        "id": "view-in-github",
        "colab_type": "text"
      },
      "source": [
        "<a href=\"https://colab.research.google.com/github/utsabsarkar12/Python_Practice/blob/main/Python.ipynb\" target=\"_parent\"><img src=\"https://colab.research.google.com/assets/colab-badge.svg\" alt=\"Open In Colab\"/></a>"
      ]
    },
    {
      "cell_type": "code",
      "source": [
        "# 1. Write a Python program to check if a number is even or odd.\n",
        "number = int(input())\n",
        "\n",
        "if number%2 == 0:\n",
        "  print(\"Even\")\n",
        "else:\n",
        "  print(\"Odd\")"
      ],
      "metadata": {
        "colab": {
          "base_uri": "https://localhost:8080/"
        },
        "id": "y3g1sQC2KZTK",
        "outputId": "4391681e-4682-400f-c43e-89f761fdd1a7"
      },
      "execution_count": null,
      "outputs": [
        {
          "output_type": "stream",
          "name": "stdout",
          "text": [
            "11\n",
            "Odd\n"
          ]
        }
      ]
    },
    {
      "cell_type": "code",
      "source": [
        "# 2. Create a Python function that takes two numbers as arguments and returns their greatest common divisor (GCD).\n",
        "\n",
        "def find_gcd(a,b):\n",
        "  if (b == 0):\n",
        "    return a\n",
        "  else:\n",
        "    return find_gcd(b, a%b)\n",
        "\n",
        "a = 60\n",
        "b = 48\n",
        "\n",
        "print(\"The gcd of 60 and 48 is : \", end=\"\")\n",
        "print(find_gcd(60, 48))"
      ],
      "metadata": {
        "colab": {
          "base_uri": "https://localhost:8080/"
        },
        "id": "kNSS3g22Fc5w",
        "outputId": "e767f6e6-3d2a-4c8a-db50-b5a6f71b1208"
      },
      "execution_count": null,
      "outputs": [
        {
          "output_type": "stream",
          "name": "stdout",
          "text": [
            "The gcd of 60 and 48 is : 12\n"
          ]
        }
      ]
    },
    {
      "cell_type": "code",
      "source": [
        "# 2. Create a Python function that takes two numbers as arguments and returns their greatest common divisor (GCD).\n",
        "import math\n",
        "\n",
        "print(\"The gcd of 60 and 48 is : \", end=\"\")\n",
        "print(math.gcd(60, 48))"
      ],
      "metadata": {
        "colab": {
          "base_uri": "https://localhost:8080/"
        },
        "id": "4XN3tWqOKJQq",
        "outputId": "4aa6a2c7-e722-4dc0-8174-52f715a66a1b"
      },
      "execution_count": null,
      "outputs": [
        {
          "output_type": "stream",
          "name": "stdout",
          "text": [
            "The gcd of 60 and 48 is : 12\n"
          ]
        }
      ]
    },
    {
      "cell_type": "code",
      "source": [
        "# 2.1. Create a Python function that takes two numbers as arguments and returns their LCM.\n",
        "import math\n",
        "\n",
        "def lcm_using_gcd(a, b):\n",
        "    gcd = math.gcd(a, b)\n",
        "    lcm = (a * b) // gcd\n",
        "    return lcm\n",
        "\n",
        "num1 = 12\n",
        "num2 = 15\n",
        "print(\"LCM of\", num1, \"and\", num2, \"is:\", lcm_using_gcd(num1, num2))"
      ],
      "metadata": {
        "colab": {
          "base_uri": "https://localhost:8080/"
        },
        "id": "JhbVL60lHpao",
        "outputId": "03db31a5-9af7-46f0-be07-f7394c008daf"
      },
      "execution_count": null,
      "outputs": [
        {
          "output_type": "stream",
          "name": "stdout",
          "text": [
            "LCM of 12 and 15 is: 60\n"
          ]
        }
      ]
    },
    {
      "cell_type": "code",
      "source": [
        "# 3. Write a Python script to calculate the factorial of a given number using a for loop.\n",
        "import math\n",
        "\n",
        "def factorial(n):\n",
        "  return(math.factorial(n))\n",
        "\n",
        "num = 5\n",
        "print(\"Factorial of\", num, \"is\",\n",
        "  factorial(num))"
      ],
      "metadata": {
        "colab": {
          "base_uri": "https://localhost:8080/"
        },
        "id": "6-LOdIwZJcab",
        "outputId": "ffd9b619-ea4e-4055-8e3e-da5aaa735f7a"
      },
      "execution_count": null,
      "outputs": [
        {
          "output_type": "stream",
          "name": "stdout",
          "text": [
            "Factorial of 5 is 120\n"
          ]
        }
      ]
    },
    {
      "cell_type": "code",
      "source": [
        "# 4. Develop a program that asks the user to enter their name and age, then prints a message telling them how old they will be in 10 years.\n",
        "name = input(\"Enter Your Name: \")\n",
        "age = int(input(\"Enter Your Age: \"))\n",
        "\n",
        "age_after_10_year = age + 10\n",
        "\n",
        "print(age_after_10_year)"
      ],
      "metadata": {
        "colab": {
          "base_uri": "https://localhost:8080/"
        },
        "id": "CoSTdFfjKYzS",
        "outputId": "7cb083e1-8e6e-4ee5-ca43-94425d51e09c"
      },
      "execution_count": null,
      "outputs": [
        {
          "output_type": "stream",
          "name": "stdout",
          "text": [
            "Enter Your Name: Utsab\n",
            "Enter Your Age: 20\n",
            "30\n"
          ]
        }
      ]
    },
    {
      "cell_type": "code",
      "source": [
        "# 5. Write a Python function that takes a string and counts the number of vowels in it.\n",
        "def count_vowels(str):\n",
        "  vowels = \"aeiouAEIOU\"\n",
        "  count = 0\n",
        "  for char in str:\n",
        "    if char in vowels:\n",
        "      count += 1\n",
        "  return count\n",
        "\n",
        "str = \"UtsabSarkar\"\n",
        "\n",
        "count_vowels(str)"
      ],
      "metadata": {
        "colab": {
          "base_uri": "https://localhost:8080/"
        },
        "id": "iKx8tqBnLLEY",
        "outputId": "74bb7b5f-de62-4d5f-ee1f-e7b4daf901cb"
      },
      "execution_count": null,
      "outputs": [
        {
          "output_type": "execute_result",
          "data": {
            "text/plain": [
              "4"
            ]
          },
          "metadata": {},
          "execution_count": 9
        }
      ]
    },
    {
      "cell_type": "code",
      "source": [
        "# 6. Write a Python function to find the largest and smallest numbers in a list.\n",
        "demo_list = [10, 24, 76, 23, 12]\n",
        "\n",
        "largest = max(demo_list)\n",
        "print(largest)\n",
        "\n",
        "smallest = min(demo_list)\n",
        "print(smallest)"
      ],
      "metadata": {
        "colab": {
          "base_uri": "https://localhost:8080/"
        },
        "id": "7jxsSd7GMtnz",
        "outputId": "664aba1e-d350-4ce6-e7f0-6a1592dc300e"
      },
      "execution_count": null,
      "outputs": [
        {
          "output_type": "stream",
          "name": "stdout",
          "text": [
            "76\n",
            "10\n"
          ]
        }
      ]
    },
    {
      "cell_type": "code",
      "source": [
        "# 7. Create a Python script to remove duplicates from a list while maintaining the original order.\n",
        "new_list = [1, 2, 2, 3, 4, 4, 5]\n",
        "\n",
        "a = list(dict.fromkeys(new_list))\n",
        "\n",
        "print(a)"
      ],
      "metadata": {
        "colab": {
          "base_uri": "https://localhost:8080/"
        },
        "id": "H76jvLdEsBhL",
        "outputId": "c90840b6-729f-4de8-ccec-18959cfacd10"
      },
      "execution_count": null,
      "outputs": [
        {
          "output_type": "stream",
          "name": "stdout",
          "text": [
            "[1, 2, 3, 4, 5]\n"
          ]
        }
      ]
    },
    {
      "cell_type": "code",
      "source": [
        "# 8. Write a Python program to find all unique combinations of two elements in a list.\n",
        "import itertools\n",
        "\n",
        "a = [1, 2]\n",
        "b = [3, 4]\n",
        "\n",
        "combinations = list(itertools.product(a,b))\n",
        "print(combinations)"
      ],
      "metadata": {
        "colab": {
          "base_uri": "https://localhost:8080/"
        },
        "id": "cooaEacgt9RU",
        "outputId": "dff79932-c583-4a2a-99a7-45dc6202948d"
      },
      "execution_count": null,
      "outputs": [
        {
          "output_type": "stream",
          "name": "stdout",
          "text": [
            "[(1, 3), (1, 4), (2, 3), (2, 4)]\n"
          ]
        }
      ]
    },
    {
      "cell_type": "code",
      "source": [
        "# 9. Given a list of numbers, write a Python function to return a new list containing only the even numbers.\n",
        "lis = [1, 2, 3, 4, 5]\n",
        "\n",
        "lis2 = [i for i in lis if i % 2 == 0]\n",
        "print(lis2)"
      ],
      "metadata": {
        "colab": {
          "base_uri": "https://localhost:8080/"
        },
        "id": "jbS9Wz39uJYE",
        "outputId": "dc659550-6c0c-4dfd-f5d7-e0d446f95a95"
      },
      "execution_count": null,
      "outputs": [
        {
          "output_type": "stream",
          "name": "stdout",
          "text": [
            "[2, 4]\n"
          ]
        }
      ]
    },
    {
      "cell_type": "code",
      "source": [
        "# 9.1. Given a list of numbers, write a Python function to return a new list containing only the odd numbers.\n",
        "lis = [1, 2, 3, 4, 5]\n",
        "lis2 = []\n",
        "\n",
        "for i in lis:\n",
        "  if i % 2 !=0:\n",
        "    lis2.append(i)\n",
        "\n",
        "print(lis2)"
      ],
      "metadata": {
        "colab": {
          "base_uri": "https://localhost:8080/"
        },
        "id": "S6F3CGwZxapL",
        "outputId": "ee985b09-4dd7-49f4-ebb5-9b8d44526a16"
      },
      "execution_count": null,
      "outputs": [
        {
          "output_type": "stream",
          "name": "stdout",
          "text": [
            "[1, 3, 5]\n"
          ]
        }
      ]
    },
    {
      "cell_type": "code",
      "source": [
        "# 10. Write a Python function that rotates a list to the left by n positions.\n",
        "def rotate_left(lst, n):\n",
        "  n = n % len(lst)\n",
        "  return lst[n:] + lst[:n]\n",
        "\n",
        "lst = [1, 2, 3, 4, 5]\n",
        "n = int(input(\"Enter the number of positions to rotate: \"))\n",
        "rotated_list = rotate_left(lst, n)\n",
        "print(rotated_list)"
      ],
      "metadata": {
        "colab": {
          "base_uri": "https://localhost:8080/"
        },
        "id": "WRzg6J-_wMH7",
        "outputId": "d6b7de91-0f88-461b-8d17-518b83c1f2a7"
      },
      "execution_count": null,
      "outputs": [
        {
          "output_type": "stream",
          "name": "stdout",
          "text": [
            "Enter the number of positions to rotate: 2\n",
            "[3, 4, 5, 1, 2]\n"
          ]
        }
      ]
    },
    {
      "cell_type": "code",
      "source": [
        "# 11. Write a Python script to count the frequency of each word in a given sentence and store the result in a dictionary.\n",
        "def freq(str):\n",
        "  words = str.split()\n",
        "\n",
        "  frequency = {}\n",
        "\n",
        "  for word in words:\n",
        "    if word in frequency:\n",
        "      frequency[word] += 1\n",
        "    else:\n",
        "      frequency[word] = 0\n",
        "  return frequency\n",
        "\n",
        "str = 'apple mango apple orange orange apple guava mango mango'\n",
        "freq(str)"
      ],
      "metadata": {
        "colab": {
          "base_uri": "https://localhost:8080/"
        },
        "id": "mNNWxHv7wPNs",
        "outputId": "81d640a5-ebac-49a1-9ded-a3c124833fe7"
      },
      "execution_count": null,
      "outputs": [
        {
          "output_type": "execute_result",
          "data": {
            "text/plain": [
              "{'apple': 2, 'mango': 2, 'orange': 1, 'guava': 0}"
            ]
          },
          "metadata": {},
          "execution_count": 16
        }
      ]
    },
    {
      "cell_type": "code",
      "source": [
        "# 12. Create a Python function to invert a dictionary, swapping its keys and values.\n",
        "dict1 = {\"brand\": \"Ford\",\n",
        "          \"model\": \"Mustang\",\n",
        "          \"year\": 1964}\n",
        "dict2 = {}\n",
        "\n",
        "for i in dict1:\n",
        "  dict2.setdefault(dict1[i], []).append(i)\n",
        "\n",
        "print(dict2)"
      ],
      "metadata": {
        "colab": {
          "base_uri": "https://localhost:8080/"
        },
        "id": "fve9r5JbwRLb",
        "outputId": "12051958-1471-4321-be98-9e092d4f441b"
      },
      "execution_count": null,
      "outputs": [
        {
          "output_type": "stream",
          "name": "stdout",
          "text": [
            "{'Ford': ['brand'], 'Mustang': ['model'], 1964: ['year']}\n"
          ]
        }
      ]
    },
    {
      "cell_type": "code",
      "source": [
        "# 13. Write a Python program to merge two dictionaries and handle duplicate keys by summing their values.\n",
        "d1 = {'Niloy': 1,\n",
        "       'Tasnia' : 5,\n",
        "       'Utsab' : 10,\n",
        "       'Reza' : 15}\n",
        "d2 = {'Utsab' : 7,\n",
        "      'Reza' : 5,\n",
        "      'Niloy' : 15}\n",
        "\n",
        "d1.update(d2)\n",
        "print(d1)"
      ],
      "metadata": {
        "id": "x_R8f5K1wUYC",
        "colab": {
          "base_uri": "https://localhost:8080/"
        },
        "outputId": "956277e2-2a1c-4445-b592-5a7ce21e2fbc"
      },
      "execution_count": null,
      "outputs": [
        {
          "output_type": "stream",
          "name": "stdout",
          "text": [
            "{'Niloy': 15, 'Tasnia': 5, 'Utsab': 7, 'Reza': 5}\n"
          ]
        }
      ]
    },
    {
      "cell_type": "code",
      "source": [
        "# 14. Develop a program that stores student names and grades in a dictionary, then allows the user to retrieve a student's grade by entering their name.\n",
        "# Define the dictionary\n",
        "d1 = {\n",
        "    'Niloy': 3.6,\n",
        "    'Tasnia': 3.9,\n",
        "    'Utsab': 3.8,\n",
        "    'Reza': 3.9\n",
        "}\n",
        "\n",
        "# Prompt the user to enter a key\n",
        "key = input(\"Enter the key (e.g., Niloy, Tasnia, Utsab, Reza): \").strip()\n",
        "\n",
        "# Retrieve and display the value\n",
        "if key in d1:\n",
        "    print(f\"The value for '{key}' is: {d1[key]}\")\n",
        "else:\n",
        "    print(f\"'{key}' is not found in the dictionary.\")\n"
      ],
      "metadata": {
        "id": "SkI6VWlvwWfk",
        "colab": {
          "base_uri": "https://localhost:8080/"
        },
        "outputId": "b650903b-acbe-4d89-922b-5dd39b33a665"
      },
      "execution_count": null,
      "outputs": [
        {
          "output_type": "stream",
          "name": "stdout",
          "text": [
            "Enter the key (e.g., Niloy, Tasnia, Utsab, Reza): Utsab\n",
            "The value for 'Utsab' is: 3.8\n"
          ]
        }
      ]
    },
    {
      "cell_type": "code",
      "source": [
        "# 15. Write a Python function that takes a dictionary and a key as arguments and returns True if the key exists in the dictionary, and False otherwise.\n",
        "# Define the dictionary\n",
        "d = {'a': 100, 'b': 200, 'c': 300}\n",
        "\n",
        "# Prompt the user to enter a key to check\n",
        "key = input(\"Enter the key you want to check: \").strip()\n",
        "\n",
        "# Check if the key exists in the dictionary\n",
        "if d.get(key) is None:\n",
        "    print(\"False\")\n",
        "else:\n",
        "    print(\"True\")\n"
      ],
      "metadata": {
        "id": "ntXaQE93wYfr",
        "colab": {
          "base_uri": "https://localhost:8080/"
        },
        "outputId": "cdea5487-f7d3-4d53-8167-07984c845aa2"
      },
      "execution_count": null,
      "outputs": [
        {
          "output_type": "stream",
          "name": "stdout",
          "text": [
            "Enter the key you want to check: f\n",
            "False\n"
          ]
        }
      ]
    },
    {
      "cell_type": "code",
      "source": [
        "# 16. Scenario:You are building a library management system. Create a Python class Book with attributes title, author, and isbn. Add methods to display book details and check whether two books are the same based on their isbn.\n",
        "class Book:\n",
        "    def __init__(self, title, author, isbn):\n",
        "        self.title = title\n",
        "        self.author = author\n",
        "        self.isbn = isbn\n",
        "\n",
        "    def display_details(self):\n",
        "        print(f\"Title: {self.title}\")\n",
        "        print(f\"Author: {self.author}\")\n",
        "        print(f\"ISBN: {self.isbn}\")\n",
        "\n",
        "    def is_same_book(self, other_book):\n",
        "        if not isinstance(other_book, Book):\n",
        "            return False\n",
        "        return self.isbn == other_book.isbn\n",
        "\n",
        "# Example usage\n",
        "book1 = Book(\"1984\", \"George Orwell\", \"1234567890\")\n",
        "book2 = Book(\"Animal Farm\", \"George Orwell\", \"0987654321\")\n",
        "book3 = Book(\"1984\", \"George Orwell\", \"1234567890\")\n",
        "\n",
        "print(\"Book 1 Details:\")\n",
        "book1.display_details()\n",
        "\n",
        "print(\"\\nBook 2 Details:\")\n",
        "book2.display_details()\n",
        "\n",
        "# Check if books are the same\n",
        "print(\"\\nAre Book 1 and Book 2 the same?\", book1.is_same_book(book2))\n",
        "print(\"Are Book 1 and Book 3 the same?\", book1.is_same_book(book3))"
      ],
      "metadata": {
        "id": "RIqXNUSPwa-D",
        "colab": {
          "base_uri": "https://localhost:8080/"
        },
        "outputId": "365804e7-2743-4f47-8be2-e89a4c2fb7cc"
      },
      "execution_count": 11,
      "outputs": [
        {
          "output_type": "stream",
          "name": "stdout",
          "text": [
            "Book 1 Details:\n",
            "Title: 1984\n",
            "Author: George Orwell\n",
            "ISBN: 1234567890\n",
            "\n",
            "Book 2 Details:\n",
            "Title: Animal Farm\n",
            "Author: George Orwell\n",
            "ISBN: 0987654321\n",
            "\n",
            "Are Book 1 and Book 2 the same? False\n",
            "Are Book 1 and Book 3 the same? True\n"
          ]
        }
      ]
    },
    {
      "cell_type": "code",
      "source": [
        "# 17. Scenario: You are creating an e-commerce application. Write a Python class Product with attributes name, price, and stock. Implement methods to:\n",
        "# Check if the product is in stock.\n",
        "# Reduce the stock by a specified quantity if an order is placed.\n",
        "# Display the product details.\n",
        "class Product:\n",
        "    def __init__(self, name, price, stock):\n",
        "        self.name = name\n",
        "        self.price = price\n",
        "        self.stock = stock\n",
        "\n",
        "    def is_in_stock(self):\n",
        "        return self.stock > 0\n",
        "\n",
        "    def reduce_stock(self, quantity):\n",
        "        if quantity <= self.stock:\n",
        "            self.stock -= quantity\n",
        "            print(f\"Order placed! {quantity} unit(s) of {self.name} sold. Remaining stock: {self.stock}.\")\n",
        "        else:\n",
        "            print(f\"Insufficient stock! Only {self.stock} unit(s) of {self.name} available.\")\n",
        "\n",
        "    def display_details(self):\n",
        "        print(f\"Product Name: {self.name}\")\n",
        "        print(f\"Price: ${self.price}\")\n",
        "        print(f\"Stock: {self.stock} unit(s)\")\n",
        "\n",
        "# Example usage\n",
        "product1 = Product(\"Laptop\", 999.99, 10)\n",
        "product2 = Product(\"Wireless Mouse\", 19.99, 0)\n",
        "\n",
        "# Display product details\n",
        "print(\"Product 1 Details:\")\n",
        "product1.display_details()\n",
        "\n",
        "print(\"\\nProduct 2 Details:\")\n",
        "product2.display_details()\n",
        "\n",
        "# Check stock availability\n",
        "print(\"\\nIs Product 1 in stock?\", product1.is_in_stock())\n",
        "print(\"Is Product 2 in stock?\", product2.is_in_stock())\n",
        "\n",
        "# Place orders\n",
        "print(\"\\nPlacing orders:\")\n",
        "product1.reduce_stock(3)  # Reduce stock by 3\n",
        "product1.reduce_stock(8)  # Attempt to reduce stock by more than available"
      ],
      "metadata": {
        "id": "o8urYLTmwe7y",
        "colab": {
          "base_uri": "https://localhost:8080/"
        },
        "outputId": "1857f183-07d2-4114-fef5-2c04e72d10fd"
      },
      "execution_count": 12,
      "outputs": [
        {
          "output_type": "stream",
          "name": "stdout",
          "text": [
            "Product 1 Details:\n",
            "Product Name: Laptop\n",
            "Price: $999.99\n",
            "Stock: 10 unit(s)\n",
            "\n",
            "Product 2 Details:\n",
            "Product Name: Wireless Mouse\n",
            "Price: $19.99\n",
            "Stock: 0 unit(s)\n",
            "\n",
            "Is Product 1 in stock? True\n",
            "Is Product 2 in stock? False\n",
            "\n",
            "Placing orders:\n",
            "Order placed! 3 unit(s) of Laptop sold. Remaining stock: 7.\n",
            "Insufficient stock! Only 7 unit(s) of Laptop available.\n"
          ]
        }
      ]
    },
    {
      "cell_type": "code",
      "source": [
        "# DFS\n",
        "def dfs(graph, node, visited = set()):\n",
        "    if node not in visited:\n",
        "      print(node, end=\" \")\n",
        "      visited.add(node)\n",
        "      for neighbor in graph[node]:\n",
        "        dfs(graph, neighbor, visited)\n",
        "\n",
        "\n",
        "\n",
        "# Example usage\n",
        "graph = {\n",
        "    0: [1, 2],\n",
        "    1: [0, 3, 4],\n",
        "    2: [0, 4],\n",
        "    3: [1],\n",
        "    4: [1, 2]\n",
        "}\n",
        "\n",
        "dfs(graph, 0)"
      ],
      "metadata": {
        "colab": {
          "base_uri": "https://localhost:8080/"
        },
        "id": "Jm_8aR7-rQrg",
        "outputId": "c2304419-b978-48c4-8402-fb8118904b6c"
      },
      "execution_count": 9,
      "outputs": [
        {
          "output_type": "stream",
          "name": "stdout",
          "text": [
            "0 1 3 4 2 "
          ]
        }
      ]
    },
    {
      "cell_type": "code",
      "source": [
        "#BFS\n",
        "from collections import deque\n",
        "\n",
        "def bfs(graph, start):\n",
        "    visited = set()\n",
        "    queue = deque([start])\n",
        "    visited.add(start)\n",
        "\n",
        "    while queue:\n",
        "        node = queue.popleft()\n",
        "        print(node, end=\" \")\n",
        "\n",
        "        for neighbor in graph[node]:\n",
        "            if neighbor not in visited:\n",
        "                visited.add(neighbor)\n",
        "                queue.append(neighbor)\n",
        "\n",
        "# Example usage\n",
        "graph = {\n",
        "    0: [1, 2],\n",
        "    1: [0, 3, 4],\n",
        "    2: [0, 4],\n",
        "    3: [1],\n",
        "    4: [1, 2]\n",
        "}\n",
        "\n",
        "bfs(graph, 0)"
      ],
      "metadata": {
        "colab": {
          "base_uri": "https://localhost:8080/"
        },
        "id": "EOvPUhBGrgAB",
        "outputId": "e2b3c9ad-d04f-4fca-d12d-ecadcafe415d"
      },
      "execution_count": 10,
      "outputs": [
        {
          "output_type": "stream",
          "name": "stdout",
          "text": [
            "0 1 2 3 4 "
          ]
        }
      ]
    }
  ]
}